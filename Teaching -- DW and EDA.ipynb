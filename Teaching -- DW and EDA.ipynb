{
 "cells": [
  {
   "cell_type": "markdown",
   "id": "107c6bae",
   "metadata": {},
   "source": [
    "Welcome to an analysis of my teaching career at Mt. Scott Learning Center through the lens of student outcomes! "
   ]
  },
  {
   "cell_type": "code",
   "execution_count": 6,
   "id": "39cfee3c",
   "metadata": {},
   "outputs": [],
   "source": [
    "#Load some premliminary packages\n",
    "\n",
    "import pandas as pd\n",
    "import glob\n",
    "\n",
    "path = '/Users/mattnelson/Desktop/GitHub/Teaching Project/Grade:Student Info/Mine'\n",
    "for name in glob.glob(path + '*.csv'):\n",
    "    print(name)\n"
   ]
  }
 ],
 "metadata": {
  "kernelspec": {
   "display_name": "Python 3 (ipykernel)",
   "language": "python",
   "name": "python3"
  },
  "language_info": {
   "codemirror_mode": {
    "name": "ipython",
    "version": 3
   },
   "file_extension": ".py",
   "mimetype": "text/x-python",
   "name": "python",
   "nbconvert_exporter": "python",
   "pygments_lexer": "ipython3",
   "version": "3.10.9"
  }
 },
 "nbformat": 4,
 "nbformat_minor": 5
}
